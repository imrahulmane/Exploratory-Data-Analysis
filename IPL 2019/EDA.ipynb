{
 "cells": [
  {
   "cell_type": "markdown",
   "metadata": {},
   "source": [
    "# To Do:\n",
    "    - What is average score of Mumbai Indians? while batting first\n",
    "    - How many matches are played on weekends? plot \n",
    "    - What are the different venues on which RCB Played?\n",
    "    - What is the Highest Score? by which team?\n",
    "    - What is the Lowest Score? by which team?\n",
    "    - How many matches KKR won if they played on their home ground?\n",
    "    - How many matches DC won while playing away from their home?\n",
    "    - On which venue most of the matches played?\n",
    "    - How many matches KXIP won while playing on weekends?\n",
    "    - What is the lowest total of CSK?"
   ]
  },
  {
   "cell_type": "code",
   "execution_count": 1,
   "metadata": {},
   "outputs": [],
   "source": [
    "import numpy as np\n",
    "import pandas as pd\n",
    "import matplotlib.pyplot as plt\n",
    "import seaborn\n",
    "import warnings\n",
    "warnings.filterwarnings('ignore')\n",
    "\n",
    "%matplotlib inline\n",
    "plt.style.use('ggplot')"
   ]
  },
  {
   "cell_type": "code",
   "execution_count": 2,
   "metadata": {},
   "outputs": [],
   "source": [
    "#Load preprocessed dataset\n",
    "\n",
    "df = pd.read_csv('preprocessed_IPL.csv')"
   ]
  },
  {
   "cell_type": "code",
   "execution_count": 3,
   "metadata": {},
   "outputs": [
    {
     "data": {
      "text/html": [
       "<div>\n",
       "<style scoped>\n",
       "    .dataframe tbody tr th:only-of-type {\n",
       "        vertical-align: middle;\n",
       "    }\n",
       "\n",
       "    .dataframe tbody tr th {\n",
       "        vertical-align: top;\n",
       "    }\n",
       "\n",
       "    .dataframe thead th {\n",
       "        text-align: right;\n",
       "    }\n",
       "</style>\n",
       "<table border=\"1\" class=\"dataframe\">\n",
       "  <thead>\n",
       "    <tr style=\"text-align: right;\">\n",
       "      <th></th>\n",
       "      <th>team_1</th>\n",
       "      <th>team_2</th>\n",
       "      <th>team_1_score</th>\n",
       "      <th>team_2_score</th>\n",
       "      <th>venue</th>\n",
       "      <th>winner</th>\n",
       "      <th>match_date</th>\n",
       "      <th>match_day</th>\n",
       "    </tr>\n",
       "  </thead>\n",
       "  <tbody>\n",
       "    <tr>\n",
       "      <td>0</td>\n",
       "      <td>MI</td>\n",
       "      <td>CSK</td>\n",
       "      <td>149</td>\n",
       "      <td>148</td>\n",
       "      <td>Hyderabad</td>\n",
       "      <td>MI</td>\n",
       "      <td>12th May</td>\n",
       "      <td>Sunday</td>\n",
       "    </tr>\n",
       "    <tr>\n",
       "      <td>1</td>\n",
       "      <td>CSK</td>\n",
       "      <td>DC</td>\n",
       "      <td>151</td>\n",
       "      <td>147</td>\n",
       "      <td>Visakhapatnam</td>\n",
       "      <td>CSK</td>\n",
       "      <td>10th May</td>\n",
       "      <td>Friday</td>\n",
       "    </tr>\n",
       "    <tr>\n",
       "      <td>2</td>\n",
       "      <td>DC</td>\n",
       "      <td>SRH</td>\n",
       "      <td>165</td>\n",
       "      <td>162</td>\n",
       "      <td>Visakhapatnam</td>\n",
       "      <td>DC</td>\n",
       "      <td>8th May</td>\n",
       "      <td>Wednesday</td>\n",
       "    </tr>\n",
       "    <tr>\n",
       "      <td>3</td>\n",
       "      <td>MI</td>\n",
       "      <td>CSK</td>\n",
       "      <td>132</td>\n",
       "      <td>131</td>\n",
       "      <td>Chennai</td>\n",
       "      <td>MI</td>\n",
       "      <td>7th May</td>\n",
       "      <td>Tuesday</td>\n",
       "    </tr>\n",
       "    <tr>\n",
       "      <td>4</td>\n",
       "      <td>MI</td>\n",
       "      <td>KKR</td>\n",
       "      <td>134</td>\n",
       "      <td>133</td>\n",
       "      <td>Mumbai</td>\n",
       "      <td>MI</td>\n",
       "      <td>5th May</td>\n",
       "      <td>Sunday</td>\n",
       "    </tr>\n",
       "    <tr>\n",
       "      <td>5</td>\n",
       "      <td>KXIP</td>\n",
       "      <td>CSK</td>\n",
       "      <td>173</td>\n",
       "      <td>170</td>\n",
       "      <td>Mohali</td>\n",
       "      <td>KXIP</td>\n",
       "      <td>5th May</td>\n",
       "      <td>Sunday</td>\n",
       "    </tr>\n",
       "    <tr>\n",
       "      <td>6</td>\n",
       "      <td>RCB</td>\n",
       "      <td>SRH</td>\n",
       "      <td>178</td>\n",
       "      <td>175</td>\n",
       "      <td>Bengaluru</td>\n",
       "      <td>RCB</td>\n",
       "      <td>4th May</td>\n",
       "      <td>Saturday</td>\n",
       "    </tr>\n",
       "    <tr>\n",
       "      <td>7</td>\n",
       "      <td>DC</td>\n",
       "      <td>RR</td>\n",
       "      <td>121</td>\n",
       "      <td>115</td>\n",
       "      <td>Delhi</td>\n",
       "      <td>DC</td>\n",
       "      <td>4th May</td>\n",
       "      <td>Saturday</td>\n",
       "    </tr>\n",
       "    <tr>\n",
       "      <td>8</td>\n",
       "      <td>KXIP</td>\n",
       "      <td>KKR</td>\n",
       "      <td>183</td>\n",
       "      <td>185</td>\n",
       "      <td>Mohali</td>\n",
       "      <td>KKR</td>\n",
       "      <td>3rd May</td>\n",
       "      <td>Friday</td>\n",
       "    </tr>\n",
       "    <tr>\n",
       "      <td>9</td>\n",
       "      <td>MI</td>\n",
       "      <td>SRH</td>\n",
       "      <td>162</td>\n",
       "      <td>162</td>\n",
       "      <td>Mumbai</td>\n",
       "      <td>Match Tied</td>\n",
       "      <td>2nd May</td>\n",
       "      <td>Thursday</td>\n",
       "    </tr>\n",
       "  </tbody>\n",
       "</table>\n",
       "</div>"
      ],
      "text/plain": [
       "  team_1 team_2  team_1_score  team_2_score          venue      winner  \\\n",
       "0     MI    CSK           149           148      Hyderabad          MI   \n",
       "1    CSK     DC           151           147  Visakhapatnam         CSK   \n",
       "2     DC    SRH           165           162  Visakhapatnam          DC   \n",
       "3     MI    CSK           132           131        Chennai          MI   \n",
       "4     MI    KKR           134           133         Mumbai          MI   \n",
       "5   KXIP    CSK           173           170         Mohali        KXIP   \n",
       "6    RCB    SRH           178           175      Bengaluru         RCB   \n",
       "7     DC     RR           121           115          Delhi          DC   \n",
       "8   KXIP    KKR           183           185         Mohali         KKR   \n",
       "9     MI    SRH           162           162         Mumbai  Match Tied   \n",
       "\n",
       "  match_date  match_day  \n",
       "0   12th May     Sunday  \n",
       "1   10th May     Friday  \n",
       "2    8th May  Wednesday  \n",
       "3    7th May    Tuesday  \n",
       "4    5th May     Sunday  \n",
       "5    5th May     Sunday  \n",
       "6    4th May   Saturday  \n",
       "7    4th May   Saturday  \n",
       "8    3rd May     Friday  \n",
       "9    2nd May   Thursday  "
      ]
     },
     "execution_count": 3,
     "metadata": {},
     "output_type": "execute_result"
    }
   ],
   "source": [
    "df.head(10)"
   ]
  },
  {
   "cell_type": "markdown",
   "metadata": {},
   "source": [
    "### What is average score of Mumbai Indians? while batting first."
   ]
  },
  {
   "cell_type": "code",
   "execution_count": 19,
   "metadata": {},
   "outputs": [
    {
     "data": {
      "text/plain": [
       "164.44"
      ]
     },
     "execution_count": 19,
     "metadata": {},
     "output_type": "execute_result"
    }
   ],
   "source": [
    "average_score_MI = df.loc[df['team_1'] == 'MI']['team_1_score'].mean()\n",
    "round(average_score_MI, 2)"
   ]
  },
  {
   "cell_type": "markdown",
   "metadata": {},
   "source": [
    "### How many matches are played on weekends? plot"
   ]
  },
  {
   "cell_type": "code",
   "execution_count": 89,
   "metadata": {},
   "outputs": [
    {
     "data": {
      "text/plain": [
       "<matplotlib.axes._subplots.AxesSubplot at 0x1a200e21d0>"
      ]
     },
     "execution_count": 89,
     "metadata": {},
     "output_type": "execute_result"
    },
    {
     "data": {
      "image/png": "[encoded data removed]",
      "text/plain": [
       "<Figure size 432x288 with 1 Axes>"
      ]
     },
     "metadata": {
      "needs_background": "light"
     },
     "output_type": "display_data"
    }
   ],
   "source": [
    "df.loc[(df['match_day'] == 'Sunday' ) | (df['match_day'] == 'Saturday' )]['match_day'].value_counts().plot(kind='bar')"
   ]
  },
  {
   "cell_type": "markdown",
   "metadata": {},
   "source": [
    "### What are the different venues on which RCB Played?"
   ]
  },
  {
   "cell_type": "code",
   "execution_count": 103,
   "metadata": {},
   "outputs": [
    {
     "data": {
      "text/plain": [
       "Bengaluru    7\n",
       "Hyderabad    1\n",
       "Mohali       1\n",
       "Chennai      1\n",
       "Kolkata      1\n",
       "Jaipur       1\n",
       "Mumbai       1\n",
       "Delhi        1\n",
       "Name: venue, dtype: int64"
      ]
     },
     "execution_count": 103,
     "metadata": {},
     "output_type": "execute_result"
    }
   ],
   "source": [
    "df.loc[(df['team_1'] == 'RCB') | (df['team_2'] == 'RCB')]['venue'].value_counts()"
   ]
  },
  {
   "cell_type": "markdown",
   "metadata": {},
   "source": [
    "### What is the Highest Score? by which team?"
   ]
  },
  {
   "cell_type": "code",
   "execution_count": 162,
   "metadata": {},
   "outputs": [
    {
     "data": {
      "text/plain": [
       "team_1          KKR\n",
       "team_1_score    232\n",
       "Name: 13, dtype: object"
      ]
     },
     "execution_count": 162,
     "metadata": {},
     "output_type": "execute_result"
    }
   ],
   "source": [
    "df.iloc[df[['team_1_score', 'team_2_score']].idxmax()].iloc[0][['team_1', 'team_1_score']]"
   ]
  },
  {
   "cell_type": "markdown",
   "metadata": {},
   "source": [
    "### What is the Lowest Score? by which team?"
   ]
  },
  {
   "cell_type": "code",
   "execution_count": 165,
   "metadata": {},
   "outputs": [
    {
     "data": {
      "text/plain": [
       "team_1          RCB\n",
       "team_1_score     62\n",
       "Name: 11, dtype: object"
      ]
     },
     "execution_count": 165,
     "metadata": {},
     "output_type": "execute_result"
    }
   ],
   "source": [
    "df.iloc[df[['team_1_score', 'team_2_score']].idxmin()].iloc[0][['team_1', 'team_1_score']]"
   ]
  },
  {
   "cell_type": "markdown",
   "metadata": {},
   "source": [
    "### How many matches KKR won if they played on their home ground?"
   ]
  },
  {
   "cell_type": "code",
   "execution_count": 172,
   "metadata": {},
   "outputs": [
    {
     "data": {
      "text/plain": [
       "KKR    3\n",
       "RCB    1\n",
       "RR     1\n",
       "DC     1\n",
       "CSK    1\n",
       "Name: winner, dtype: int64"
      ]
     },
     "execution_count": 172,
     "metadata": {},
     "output_type": "execute_result"
    }
   ],
   "source": [
    "df.loc[(df['team_1'] == 'KKR') | (df['team_2'] == 'KKR')].loc[df['venue'] == 'Kolkata']['winner'].value_counts()"
   ]
  },
  {
   "cell_type": "markdown",
   "metadata": {},
   "source": [
    "### How many matches DC won while playing away from their home?"
   ]
  },
  {
   "cell_type": "code",
   "execution_count": 176,
   "metadata": {},
   "outputs": [
    {
     "data": {
      "text/plain": [
       "DC      6\n",
       "CSK     2\n",
       "KXIP    1\n",
       "Name: winner, dtype: int64"
      ]
     },
     "execution_count": 176,
     "metadata": {},
     "output_type": "execute_result"
    }
   ],
   "source": [
    "df.loc[(df['team_1'] == 'DC') | (df['team_2'] == 'DC')].loc[df['venue'] != 'Delhi']['winner'].value_counts()"
   ]
  },
  {
   "cell_type": "markdown",
   "metadata": {},
   "source": [
    "### On which venue most of the matches played? plot"
   ]
  },
  {
   "cell_type": "code",
   "execution_count": 180,
   "metadata": {},
   "outputs": [
    {
     "data": {
      "text/plain": [
       "<matplotlib.axes._subplots.AxesSubplot at 0x1a206d2f50>"
      ]
     },
     "execution_count": 180,
     "metadata": {},
     "output_type": "execute_result"
    },
    {
     "data": {
      "image/png": "[encoded data removed]",
      "text/plain": [
       "<Figure size 432x288 with 1 Axes>"
      ]
     },
     "metadata": {
      "needs_background": "light"
     },
     "output_type": "display_data"
    }
   ],
   "source": [
    "df.groupby('venue').size().plot(kind='barh')"
   ]
  },
  {
   "cell_type": "markdown",
   "metadata": {},
   "source": [
    "### How many matches KXIP won while playing on weekends?"
   ]
  },
  {
   "cell_type": "code",
   "execution_count": 186,
   "metadata": {},
   "outputs": [
    {
     "data": {
      "text/html": [
       "<div>\n",
       "<style scoped>\n",
       "    .dataframe tbody tr th:only-of-type {\n",
       "        vertical-align: middle;\n",
       "    }\n",
       "\n",
       "    .dataframe tbody tr th {\n",
       "        vertical-align: top;\n",
       "    }\n",
       "\n",
       "    .dataframe thead th {\n",
       "        text-align: right;\n",
       "    }\n",
       "</style>\n",
       "<table border=\"1\" class=\"dataframe\">\n",
       "  <thead>\n",
       "    <tr style=\"text-align: right;\">\n",
       "      <th></th>\n",
       "      <th>team_1</th>\n",
       "      <th>team_2</th>\n",
       "      <th>team_1_score</th>\n",
       "      <th>team_2_score</th>\n",
       "      <th>venue</th>\n",
       "      <th>winner</th>\n",
       "      <th>match_date</th>\n",
       "      <th>match_day</th>\n",
       "    </tr>\n",
       "  </thead>\n",
       "  <tbody>\n",
       "    <tr>\n",
       "      <td>5</td>\n",
       "      <td>KXIP</td>\n",
       "      <td>CSK</td>\n",
       "      <td>173</td>\n",
       "      <td>170</td>\n",
       "      <td>Mohali</td>\n",
       "      <td>KXIP</td>\n",
       "      <td>5th May</td>\n",
       "      <td>Sunday</td>\n",
       "    </tr>\n",
       "    <tr>\n",
       "      <td>51</td>\n",
       "      <td>KXIP</td>\n",
       "      <td>MI</td>\n",
       "      <td>177</td>\n",
       "      <td>176</td>\n",
       "      <td>Mohali</td>\n",
       "      <td>KXIP</td>\n",
       "      <td>30th March</td>\n",
       "      <td>Saturday</td>\n",
       "    </tr>\n",
       "  </tbody>\n",
       "</table>\n",
       "</div>"
      ],
      "text/plain": [
       "   team_1 team_2  team_1_score  team_2_score   venue winner  match_date  \\\n",
       "5    KXIP    CSK           173           170  Mohali   KXIP     5th May   \n",
       "51   KXIP     MI           177           176  Mohali   KXIP  30th March   \n",
       "\n",
       "   match_day  \n",
       "5     Sunday  \n",
       "51  Saturday  "
      ]
     },
     "execution_count": 186,
     "metadata": {},
     "output_type": "execute_result"
    }
   ],
   "source": [
    "df.loc[(df['team_1'] == 'KXIP') | (df['team_2'] == 'KXIP')].loc[\n",
    "    (df['match_day'] == 'Saturday') | (df['match_day'] == 'Sunday')].loc[df['winner'] == 'KXIP']"
   ]
  },
  {
   "cell_type": "markdown",
   "metadata": {},
   "source": [
    "### What is the lowest total of CSK?"
   ]
  },
  {
   "cell_type": "code",
   "execution_count": 198,
   "metadata": {},
   "outputs": [
    {
     "data": {
      "text/plain": [
       "71"
      ]
     },
     "execution_count": 198,
     "metadata": {},
     "output_type": "execute_result"
    }
   ],
   "source": [
    "df.loc[(df['team_1'] == 'CSK') | (df['team_2'] == 'CSK')][['team_1_score', 'team_2_score']].min()['team_1_score']"
   ]
  },
  {
   "cell_type": "code",
   "execution_count": null,
   "metadata": {},
   "outputs": [],
   "source": []
  }
 ],
 "metadata": {
  "kernelspec": {
   "display_name": "Python 3.7.4 64-bit ('anaconda3': conda)",
   "language": "python",
   "name": "python37464bitanaconda3conda6a83e1e841ca4af6a52e9b86ec9d0258"
  },
  "language_info": {
   "codemirror_mode": {
    "name": "ipython",
    "version": 3
   },
   "file_extension": ".py",
   "mimetype": "text/x-python",
   "name": "python",
   "nbconvert_exporter": "python",
   "pygments_lexer": "ipython3",
   "version": "3.7.4"
  }
 },
 "nbformat": 4,
 "nbformat_minor": 2
}
